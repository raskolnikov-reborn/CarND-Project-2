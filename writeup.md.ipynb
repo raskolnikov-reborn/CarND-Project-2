{
 "cells": [
  {
   "cell_type": "markdown",
   "metadata": {},
   "source": [
    "# **Traffic Sign Recognition** \n",
    "\n",
    "## Writeup \n",
    "\n",
    "### This is the writeup for project 2 submission for the CarND Udacity Program\n",
    "\n",
    "---"
   ]
  },
  {
   "cell_type": "markdown",
   "metadata": {},
   "source": [
    "**Objective: Build a Traffic Sign Recognition Project**\n",
    "\n",
    "The goals / steps of this project are the following:\n",
    "* Load the data set (see below for links to the project data set)\n",
    "* Explore, summarize and visualize the data set\n",
    "* Design, train and test a model architecture\n",
    "* Use the model to make predictions on new images\n",
    "* Analyze the softmax probabilities of the new images\n",
    "* Summarize the results with a written report\n",
    "\n",
    "![\"Visualization\"](./examples/visualization.jpg)"
   ]
  },
  {
   "cell_type": "markdown",
   "metadata": {},
   "source": [
    "## Rubric Points\n",
    "### Here I will consider the [rubric points](https://review.udacity.com/#!/rubrics/481/view) individually and describe how I addressed each point in my implementation.  \n",
    "\n",
    "---\n",
    "### Writeup / README\n",
    "\n",
    "#### 1. Provide a Writeup / README that includes all the rubric points and how you addressed each one. You can submit your writeup as markdown or pdf. You can use this template as a guide for writing the report. The submission includes the project code.\n",
    "\n",
    "You're reading it! and here is a link to my [project code](https://github.com/raskolnikov-reborn/CarND-Project-2.git)\n",
    "\n",
    "### Data Set Summary & Exploration\n",
    "\n",
    "#### 1. Provide a basic summary of the data set and identify where in your code the summary was done. In the code, the analysis should be done using python, numpy and/or pandas methods rather than hardcoding results manually.\n",
    "\n",
    "The code for this step is contained in the second code cell of the IPython notebook.  \n",
    "\n",
    "I used the numpy to calculate summary statistics of the traffic\n",
    "signs data set:\n",
    "\n",
    "* Number of training examples = 34799\n",
    "* Number of testing examples = 12630\n",
    "* Image data shape = (32, 32, 3)\n",
    "* Number of classes = 43"
   ]
  },
  {
   "cell_type": "markdown",
   "metadata": {},
   "source": [
    "#### 2. Include an exploratory visualization of the dataset and identify where the code is in your code file.\n",
    "\n",
    "The code for this step is contained in the third code cell of the IPython notebook.  \n",
    "\n",
    "Here is an exploratory visualization of the data set. It is a bar chart showing how the data is distributed among the various target classes/labels\n",
    "\n",
    "1. I found that the data was not distributed evenly among classes and random sampling and batching of such data would bias the classifier towards the over represented classes.\n",
    "![Class Strength](./writeup_helpers/class_strength.png)\n",
    "2. I also plotted the distribution of the data in labels. The distribution indicated that all the labels of one type were clustered together\n",
    "![Label Distribution](./writeup_helpers/distribution_unshuffled.png)"
   ]
  },
  {
   "cell_type": "markdown",
   "metadata": {},
   "source": [
    "### Design and Test a Model Architecture\n",
    "\n",
    "#### 1. Describe how, and identify where in your code, you preprocessed the image data. What tecniques were chosen and why did you choose these techniques? Consider including images showing the output of each preprocessing technique. Pre-processing refers to techniques such as converting to grayscale, normalization, etc.\n",
    "\n",
    "The code for this step is contained in the fourth code cell of the IPython notebook.\n",
    "\n",
    "As a first step, I decided to convert the images to grayscale because grayscale models are color invariant. Input images may be captured from different sources with varying levels of color accuracy so a grayscale image is a better input space to train on.\n",
    "\n",
    "Here is an example of a traffic sign image before and after grayscaling.\n",
    "\n",
    "![alt text](./writeup_helpers/1_color.png)\n",
    "![alt text](./writeup_helpers/1_gray.png)\n",
    "\n",
    "\n",
    "As a last step, I normalized the image data because a uniform scale distributed between -1,1 about zero is a better representation for a learning data set than the original input distributed between 0,255 A standardised feature scale will implicitly weight all features equally in their representation."
   ]
  },
  {
   "cell_type": "markdown",
   "metadata": {},
   "source": [
    "#### 2. Describe how, and identify where in your code, you set up training, validation and testing data. How much data was in each set? Explain what techniques were used to split the data into these sets. (OPTIONAL: As described in the \"Stand Out Suggestions\" part of the rubric, if you generated additional data for training, describe why you decided to generate additional data, how you generated the data, identify where in your code, and provide example images of the additional data)\n",
    "\n",
    "In the download provided with the project materials there were three files, namely, train.p, valid.p and test.p. I used them as the names implied and did not explicitly split more of the training data into validation set. \n",
    "\n",
    "The Code for data augmentation is contained in the cells under the header class oversampling in the Ipython notebook\n",
    "As discussed Earlier oversampling of under-represented classes was done with random mutation and added to the training set to more equalize the class distribution and ensure that each class had at least a minimum number of samples\n",
    "\n",
    "The sixth code cell of the IPython notebook contains the code for augmenting the data set. I decided to generate additional data because ... To add more data to the the data set, I used the following techniques because ... \n",
    "\n",
    "\n",
    "My final training set had 46480 number of images. My validation set and test set had 4410 and 12630 number of images.\n",
    "\n",
    "\n",
    "The difference between the original data set and the augmented data set is illustrated in the images below\n",
    "![\"Unaugmented Data\"](./writeup_helpers/class_strength.png)\n",
    "![\"Augmented Data\"](./writeup_helpers/class_strength_oversampled.png)"
   ]
  },
  {
   "cell_type": "markdown",
   "metadata": {},
   "source": [
    "#### 3. Describe, and identify where in your code, what your final model architecture looks like including model type, layers, layer sizes, connectivity, etc.) Consider including a diagram and/or table describing the final model.\n",
    "\n",
    "The code for my final model is located in the seventh cell of the ipython notebook. \n",
    "![\"Model Architecture\"](./writeup_helpers/architecture/architecture.001.jpeg)\n",
    "\n",
    "My final model consisted of the following layers:\n",
    "\n",
    "| Layer         \t\t|     Description\t        \t\t\t\t\t| \n",
    "|:---------------------:|:---------------------------------------------:| \n",
    "| Input         \t\t| 32x32x1 Normalized Grayscale image   \t\t\t| \n",
    "| ** Convolution 5x5**  | 1x1 stride, same padding, outputs 28x28x6 \t|\n",
    "| activation\t\t\t| RELU\t\t\t\t\t\t\t\t\t\t\t|\n",
    "| Max pooling\t      \t| 2x2 stride,  outputs 14x14x6 \t\t\t\t    |\n",
    "| ** Convolution 5x5**  | 14x14x6 --> 10x10x16      \t\t\t\t\t|\n",
    "| activation\t\t\t| RELU\t\t\t\t\t\t\t\t\t\t\t|\n",
    "| Max pooling\t      \t| 2x2 stride,  outputs 5x5x16 \t\t\t\t    |\n",
    "| ** Convolution 5x5**  | 5x5x16 --> 1x1x400      \t\t\t\t\t    |\n",
    "| activation\t\t\t| RELU\t\t\t\t\t\t\t\t\t\t\t|\n",
    "| ** Concatenation **   | layer 3 + layer 2 flattened                   |\n",
    "| ** Dropout **         | 0.5                                           |\n",
    "| ** Fully connected **\t| Input: 800, output 43        \t\t\t\t\t|"
   ]
  },
  {
   "cell_type": "markdown",
   "metadata": {},
   "source": [
    "#### 4. Describe how, and identify where in your code, you trained your model. The discussion can include the type of optimizer, the batch size, number of epochs and any hyperparameters such as learning rate.\n",
    "\n",
    "The code for training the model is located in the Train your model here Section of the Ipython notebook\n",
    "\n",
    "The training pipeline is described as below\n",
    "\n",
    "| Training Parameter    |     Description\t        \t\t\t\t\t| \n",
    "|:---------------------:|:---------------------------------------------:| \n",
    "| Cross Entropy         | Softmax Logits Cross Entropy                  |\n",
    "| Loss                  | Reduced mean over CE                          |\n",
    "| Optimizer             | Adam                                          |\n",
    "| Training cond.        | Loss minimization                             |\n",
    "| EPOCHS                | 1000                                          |\n",
    "| Learning Rate         | 0.0005                                        |\n",
    "| Batch Size            | 128                                           |"
   ]
  },
  {
   "cell_type": "markdown",
   "metadata": {},
   "source": [
    "#### 5. Describe the approach taken for finding a solution. Include in the discussion the results on the training, validation and test sets and where in the code these were calculated. Your approach may have been an iterative process, in which case, outline the steps you took to get to the final solution and why you chose those steps. Perhaps your solution involved an already well known implementation or architecture. In this case, discuss why you think the architecture is suitable for the current problem.\n",
    "\n",
    "The code for calculating the accuracy of the model is located in the Results Section of the Ipython notebook\n",
    "\n",
    "My final model results were:\n",
    "* training set accuracy of 100%\n",
    "* validation set accuracy of 95.5% \n",
    "* test set accuracy of 93.7%\n",
    "\n",
    "If a well known architecture was chosen:\n",
    "* I chose the architecture desctibed by Lecun et al in 1998\n",
    "* The architecture is a well known implementation for the traffic sign problem. I also attempted to implement The architecture described by Ciresan et al in http://people.idsia.ch/~juergen/nn2012traffic.pdf but was unable to completely understand it. I'm still working on it and hope to have a working implementation soon.\n",
    "* How does the final model's accuracy on the training, validation and test set provide evidence that the model is working well? I am not sure if the model is working well. Trying various combinations of the learning rates and EPOCHS and filters, my final results always hovered around the same numbers. I am not sure whether this is due to the face that I didn't clean the data as I should have or whether there is something wrong with my augmentation or implementation of the model in general. I am hoping the reviewer would be able to guide me on how to improve my results.\n",
    " "
   ]
  },
  {
   "cell_type": "markdown",
   "metadata": {},
   "source": [
    "### Test a Model on New Images\n",
    "\n",
    "#### 1. Choose five German traffic signs found on the web and provide them in the report. For each image, discuss what quality or qualities might be difficult to classify.\n",
    "\n",
    "I was only able to find 3 uncopyrighted images on the web\n",
    "I generated the other 3 by using google earth on Munich and snapshotting traffic signs as I found them\n",
    "\n",
    "![1](./new_images/1.png) ![2](./new_images/2.png)\n",
    "![3](./new_images/3.png) ![4](./new_images/4.png)\n",
    "![5](./new_images/5.png) ![6](./new_images/6.png)\n",
    "\n",
    "Images 1 2 and 3 are of much better quality so shouldnt be hard to classify and the model predicted them correctly all of the time regardless of training parameters.\n",
    "Images 4, 5 and 6 are more noisy and taken from different angles (not completely frontal) Also they are similar to a lot of other traffic signs for example Road work is quite similar to Children crossing and the keep right as well as go straight or right images may be confused with other similar turn instruction signs "
   ]
  },
  {
   "cell_type": "markdown",
   "metadata": {},
   "source": [
    "#### 2. Discuss the model's predictions on these new traffic signs and compare the results to predicting on the test set. Identify where in your code predictions were made. At a minimum, discuss what the predictions were, the accuracy on these new predictions, and compare the accuracy to the accuracy on the test set (OPTIONAL: Discuss the results in more detail as described in the \"Stand Out Suggestions\" part of the rubric).\n",
    "\n",
    "The code for making predictions on my final model is located in the tenth cell of the Ipython notebook.\n",
    "\n",
    "Here are the results of the prediction:\n",
    "![\"Predictions\"](./writeup_helpers/predictions.png)\n",
    "\n",
    "The model was able to correctly guess 6 of the 6 traffic signs, which gives an accuracy of 100%. More challenging images with more noise would probably dip it to around the same number as seen on the test set.\n",
    "\n",
    "#### 3. Describe how certain the model is when predicting on each of the five new images by looking at the softmax probabilities for each prediction and identify where in your code softmax probabilities were outputted. Provide the top 5 softmax probabilities for each image along with the sign type of each probability. (OPTIONAL: as described in the \"Stand Out Suggestions\" part of the rubric, visualizations can also be provided such as bar charts)\n",
    "\n",
    "As seen in the image above, the algorithm was very confident on all of the images. Perhaps more challenging images would shed more light on the different softmax probabilities. However when I was having difficulty in training the model, I was able to see that speed limit signs would be confused between each other as well as turn instructions would be confused"
   ]
  },
  {
   "cell_type": "code",
   "execution_count": null,
   "metadata": {
    "collapsed": true
   },
   "outputs": [],
   "source": []
  }
 ],
 "metadata": {
  "kernelspec": {
   "display_name": "Python 3",
   "language": "python",
   "name": "python3"
  },
  "language_info": {
   "codemirror_mode": {
    "name": "ipython",
    "version": 3
   },
   "file_extension": ".py",
   "mimetype": "text/x-python",
   "name": "python",
   "nbconvert_exporter": "python",
   "pygments_lexer": "ipython3",
   "version": "3.5.3"
  }
 },
 "nbformat": 4,
 "nbformat_minor": 2
}
